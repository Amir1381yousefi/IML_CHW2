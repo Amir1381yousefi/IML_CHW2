{
 "cells": [
  {
   "attachments": {},
   "cell_type": "markdown",
   "metadata": {
    "id": "un_07izr0mCO",
    "pycharm": {
     "name": "#%% md\n"
    }
   },
   "source": [
    "<h1 align=\"center\">An Introduction to Machine Learning - 25737</h1>\n",
    "<h4 align=\"center\">Dr. Sajjad Amini</h4>\n",
    "<h4 align=\"center\">Sharif University of Technology, Spring 2023</h4>\n",
    "\n",
    "**Student Name**: Amir Mohammad Yousefi\n",
    "\n",
    "**Student ID**: 99102531\n",
    "\n",
    "# Effect of Overfitting\n",
    "\n",
    "In this exercise, we want to examine the effect of **overfitting**. As you learned in class, using too many features in training can result in a model with very low loss on the training set but high loss on the validation and test set. For this purpose, we have prepared a dataset in the `q2-train.npy`, `q2-valid.npy`, and `q2-test.npy` files for you. We know that `y` is a polynomial function of `x` in this dataset, meaning that \n",
    "\n",
    "$$\n",
    "y = \\sum_{i=0}^{k}a_ix^i\n",
    "$$\n",
    "\n",
    "However, we do not know the exact value of `k`."
   ]
  },
  {
   "attachments": {},
   "cell_type": "markdown",
   "metadata": {
    "id": "rcSNUeqT158e",
    "pycharm": {
     "name": "#%% md\n"
    }
   },
   "source": [
    "## Importing Libraries\n",
    "\n",
    "First, we import the necessary libraries for this assignment. Please note that you should only use these libraries and no other libraries are acceptable."
   ]
  },
  {
   "cell_type": "code",
   "execution_count": 23,
   "metadata": {
    "id": "UitW8b0J0jBa",
    "pycharm": {
     "name": "#%%\n"
    }
   },
   "outputs": [],
   "source": [
    "import numpy as np\n",
    "import matplotlib.pyplot as plt"
   ]
  },
  {
   "attachments": {},
   "cell_type": "markdown",
   "metadata": {
    "id": "Q1x7BaU22F4k",
    "pycharm": {
     "name": "#%% md\n"
    }
   },
   "source": [
    "## Reading Data and Preprocessing\n",
    "\n",
    "In this part of the assignment, you should read data from the `.npy` files. The data in `q2-train.npy` file is your training set and should be stored in the `X_train` and `Y_train` variables. Similarly, the data in `q2-valid.npy` file is your validation set, and the data in `q2-test.npy` file is your test set, which should be stored in `X_val`, `Y_val`, `X_test`, and `Y_test` respectively. You can use the `np.load` function to read the `.npy` files."
   ]
  },
  {
   "cell_type": "code",
   "execution_count": 24,
   "metadata": {
    "id": "dDMeq10G2m0U",
    "pycharm": {
     "name": "#%%\n"
    }
   },
   "outputs": [
    {
     "name": "stdout",
     "output_type": "stream",
     "text": [
      "[[-1.93239324]\n",
      " [ 1.19351935]\n",
      " [-1.8219822 ]\n",
      " [ 0.62986299]\n",
      " [-0.49384938]\n",
      " [ 0.10461046]\n",
      " [-1.65036504]\n",
      " [ 0.51665167]\n",
      " [ 1.49994999]\n",
      " [ 0.97709771]\n",
      " [ 0.94629463]\n",
      " [ 0.89428943]\n",
      " [ 1.00950095]\n",
      " [-0.28942894]\n",
      " [ 0.0650065 ]\n",
      " [-1.18551855]\n",
      " [ 0.58865887]\n",
      " [ 0.78827883]\n",
      " [ 0.12541254]\n",
      " [ 1.58555856]\n",
      " [-0.30583058]\n",
      " [ 0.22382238]\n",
      " [-0.64546455]\n",
      " [ 0.11541154]\n",
      " [-1.48954895]\n",
      " [ 1.79077908]\n",
      " [-1.919992  ]\n",
      " [ 0.44424442]\n",
      " [-1.32873287]\n",
      " [ 1.57115712]]\n",
      "[[ 1.59853158]\n",
      " [-0.51962868]\n",
      " [ 1.65222785]\n",
      " [ 0.17723153]\n",
      " [-0.15752471]\n",
      " [-0.52047304]\n",
      " [ 0.91650326]\n",
      " [-0.23727129]\n",
      " [ 0.54705307]\n",
      " [-0.25195256]\n",
      " [-0.51042516]\n",
      " [-0.21712669]\n",
      " [-0.51150218]\n",
      " [-0.36000671]\n",
      " [-0.31244496]\n",
      " [ 0.03380313]\n",
      " [ 0.23481215]\n",
      " [ 0.28558209]\n",
      " [-0.79028615]\n",
      " [ 0.69831377]\n",
      " [-0.3693903 ]\n",
      " [-0.37783827]\n",
      " [ 0.55225076]\n",
      " [-0.50283309]\n",
      " [ 0.32233633]\n",
      " [ 3.07231005]\n",
      " [ 2.30373497]\n",
      " [ 0.51480758]\n",
      " [ 0.37184479]\n",
      " [ 1.0986594 ]]\n",
      "[[ 1.7559756 ]\n",
      " [ 0.80588059]\n",
      " [ 1.85358536]\n",
      " [ 0.28542854]\n",
      " [ 1.43394339]\n",
      " [ 1.94719472]\n",
      " [-1.45714571]\n",
      " [-1.68836884]\n",
      " [ 0.80348035]\n",
      " [-0.81428143]\n",
      " [ 1.33513351]\n",
      " [ 0.02060206]\n",
      " [ 1.00870087]\n",
      " [ 1.43994399]\n",
      " [-0.37183718]\n",
      " [-0.35943594]\n",
      " [-1.629963  ]\n",
      " [-0.27422742]\n",
      " [-1.62876288]\n",
      " [-1.68036804]\n",
      " [-0.87868787]\n",
      " [-1.17591759]\n",
      " [ 0.46544654]\n",
      " [-0.74427443]\n",
      " [-1.14271427]\n",
      " [-0.64906491]\n",
      " [-0.00380038]\n",
      " [-1.12471247]\n",
      " [ 1.23592359]\n",
      " [-1.10191019]\n",
      " [-0.52545255]\n",
      " [ 0.05860586]\n",
      " [ 0.82188219]\n",
      " [-1.6339634 ]\n",
      " [-1.58515852]\n",
      " [-1.31193119]\n",
      " [ 0.94269427]\n",
      " [-0.51585159]\n",
      " [ 1.81438144]\n",
      " [ 0.94949495]]\n",
      "[[ 3.09995946]\n",
      " [ 0.36850128]\n",
      " [ 3.3802941 ]\n",
      " [-0.36009332]\n",
      " [-0.37996196]\n",
      " [ 2.15114739]\n",
      " [ 0.30467442]\n",
      " [ 0.61130086]\n",
      " [ 0.26092148]\n",
      " [ 0.35811237]\n",
      " [ 0.04765766]\n",
      " [-0.71507412]\n",
      " [-0.38971649]\n",
      " [-0.34421568]\n",
      " [-0.23257335]\n",
      " [-1.18791189]\n",
      " [ 0.59425016]\n",
      " [-0.16126773]\n",
      " [ 0.60820525]\n",
      " [ 1.09216362]\n",
      " [ 0.56933873]\n",
      " [ 0.68479221]\n",
      " [ 0.10559379]\n",
      " [ 0.25872046]\n",
      " [ 0.6744882 ]\n",
      " [ 1.19165229]\n",
      " [-0.47102116]\n",
      " [ 0.89696252]\n",
      " [-1.04590906]\n",
      " [ 0.63978021]\n",
      " [ 0.35529544]\n",
      " [-0.51446225]\n",
      " [ 0.09911931]\n",
      " [ 0.55953242]\n",
      " [ 0.8012603 ]\n",
      " [ 0.42683497]\n",
      " [-0.34659633]\n",
      " [ 0.09484508]\n",
      " [ 2.93984852]\n",
      " [-0.308231  ]]\n",
      "[[-0.84428443]\n",
      " [ 0.11741174]\n",
      " [ 1.45874587]\n",
      " [ 0.99669967]\n",
      " [ 0.78507851]\n",
      " [ 1.72437244]\n",
      " [ 0.25662566]\n",
      " [ 1.89558956]\n",
      " [ 0.71027103]\n",
      " [-0.74307431]\n",
      " [-1.34553455]\n",
      " [-1.6139614 ]\n",
      " [ 0.88588859]\n",
      " [-0.97789779]\n",
      " [-1.07070707]\n",
      " [ 0.35743574]\n",
      " [-1.13951395]\n",
      " [ 1.65676568]\n",
      " [-1.09430943]\n",
      " [ 0.50625063]\n",
      " [-0.46624662]\n",
      " [-0.73427343]\n",
      " [ 0.59305931]\n",
      " [-1.26432643]\n",
      " [ 0.46064606]\n",
      " [ 1.30353035]\n",
      " [ 0.43264326]\n",
      " [-0.74387439]\n",
      " [-1.89558956]\n",
      " [-0.3210321 ]\n",
      " [-0.00620062]\n",
      " [-1.62236224]\n",
      " [-1.42514251]\n",
      " [-1.6719672 ]\n",
      " [ 1.28992899]\n",
      " [ 1.09950995]\n",
      " [ 0.45064506]\n",
      " [ 1.5559556 ]\n",
      " [-1.09230923]\n",
      " [-1.91439144]]\n",
      "[[ 0.43219567]\n",
      " [ 0.03325962]\n",
      " [ 0.28870815]\n",
      " [-0.50234147]\n",
      " [ 0.15991949]\n",
      " [ 2.20617148]\n",
      " [ 0.22781921]\n",
      " [ 3.27961026]\n",
      " [ 0.77666871]\n",
      " [ 0.83886857]\n",
      " [ 0.07532852]\n",
      " [ 0.33047547]\n",
      " [ 0.01450011]\n",
      " [ 0.9327507 ]\n",
      " [ 0.75238836]\n",
      " [ 0.32290095]\n",
      " [ 0.21803653]\n",
      " [ 1.85211383]\n",
      " [ 0.20242484]\n",
      " [ 0.22305293]\n",
      " [ 0.16375975]\n",
      " [ 0.14116947]\n",
      " [ 0.65651864]\n",
      " [ 0.57771818]\n",
      " [ 0.2120837 ]\n",
      " [-1.14246949]\n",
      " [-0.11212705]\n",
      " [ 0.86822753]\n",
      " [ 1.29452749]\n",
      " [-0.35298957]\n",
      " [-0.69758844]\n",
      " [ 0.88307099]\n",
      " [ 0.22944119]\n",
      " [ 0.38549824]\n",
      " [-0.42373186]\n",
      " [-0.72362674]\n",
      " [-0.45146655]\n",
      " [ 0.67232715]\n",
      " [ 0.67936865]\n",
      " [ 1.2309955 ]]\n"
     ]
    }
   ],
   "source": [
    "X_train, Y_train, X_val, Y_val, X_test, Y_test = None, None, None, None, None, None\n",
    "\n",
    "### START CODE HERE ###\n",
    "train = np.load(\"q2-train.npy\")\n",
    "m, n = train.shape\n",
    "X_train = train[:,0].reshape(m,1)\n",
    "Y_train = train[:,1].reshape(m,1)\n",
    "print(X_train)\n",
    "print(Y_train)\n",
    "\n",
    "valid = np.load(\"q2-valid.npy\")\n",
    "m, n = valid.shape\n",
    "X_val = valid[:,0].reshape(m,1)\n",
    "Y_val = valid[:,1].reshape(m,1)\n",
    "print(X_val)\n",
    "print(Y_val)\n",
    "\n",
    "test = np.load(\"q2-test.npy\")\n",
    "m, n = test.shape\n",
    "X_test = test[:,0].reshape(m,1)\n",
    "Y_test = test[:,1].reshape(m,1)\n",
    "print(X_test)\n",
    "print(Y_test)\n",
    "### END CODE HERE ###"
   ]
  },
  {
   "attachments": {},
   "cell_type": "markdown",
   "metadata": {
    "id": "nyXpEfEa3Gw-",
    "pycharm": {
     "name": "#%% md\n"
    }
   },
   "source": [
    "To find the best value of `k`, we want to change `k` from 1 to 12 and examine its effect on the validation set, and then choose the right value of `k`. For this purpose, we need to create a matrix with columns equal to $x^0$, $x^1$, $x^2$, ..., $x^k$ for every value of `k`. You can complete the following function to do this job. The function takes an $m \\times 1$ vector `X` containing values of input `x` and returns an $m \\times (k+1)$ matrix that has the properties mentioned above."
   ]
  },
  {
   "cell_type": "code",
   "execution_count": 25,
   "metadata": {
    "id": "DXw2tPO84Ksp",
    "pycharm": {
     "name": "#%%\n"
    }
   },
   "outputs": [],
   "source": [
    "def create_matrix(X):\n",
    "    '''\n",
    "    X: an m by 1 array\n",
    "    '''\n",
    "    new_X = None\n",
    "    ### START CODE HERE ###\n",
    "    m, n = X.shape\n",
    "    k=12\n",
    "    new_X = np.zeros((m,k+1))\n",
    "    for i in range(m):\n",
    "        for j in range(k+1):\n",
    "            new_X[i,j]=X[i]**j\n",
    "    ### END CODE HERE ###\n",
    "    return new_X"
   ]
  },
  {
   "attachments": {},
   "cell_type": "markdown",
   "metadata": {
    "id": "WCTuye7C5Aq3",
    "pycharm": {
     "name": "#%% md\n"
    }
   },
   "source": [
    "## Validate Model\n",
    "\n",
    "Now, we want to train our model for every value of `k`. You can use any of the methods that we used in **Question 1** (gradient descent or direct calculation) for this purpose. The following function trains our model on the training set for a given value of `k`, and then returns the loss on the training set and validation set, as well as the weight vector `w`."
   ]
  },
  {
   "cell_type": "code",
   "execution_count": 34,
   "metadata": {
    "id": "9lfWITgf7yQH",
    "pycharm": {
     "name": "#%%\n"
    }
   },
   "outputs": [],
   "source": [
    "# If you need any other function for training write it here\n",
    "def loss(X, Y, w):\n",
    "  '''\n",
    "  X: an m by (n+1) matrix which includes inputs\n",
    "  Y: an m by 1 vector which includes heating loads\n",
    "  w: an (n+1) by 1 weight vector\n",
    "  '''\n",
    "  m, n = X.shape\n",
    "  loss = None\n",
    "  ### START CODE HERE ###\n",
    "  loss = (np.matmul(X,w) - Y)\n",
    "  loss = np.matmul(loss.T,loss)\n",
    "  loss = loss / m\n",
    "  ### END CODE HERE ###\n",
    "  return loss\n",
    "\n",
    "def direct_method(X, Y):\n",
    "  '''\n",
    "  X: an m by (n+1) matrix which includes inputs\n",
    "  Y: an m by 1 vector which includes heating loads\n",
    "  '''\n",
    "  w = None\n",
    "  ### START CODE HERE ###\n",
    "  w = np.matmul(np.matmul(np.linalg.pinv(np.matmul(X.T,X)), X.T), Y)\n",
    "  ### END CODE HERE ###\n",
    "  return w\n",
    "# (like gradient descent or anything else)"
   ]
  },
  {
   "cell_type": "code",
   "execution_count": 32,
   "metadata": {
    "id": "JaIs631q508z",
    "pycharm": {
     "name": "#%%\n"
    }
   },
   "outputs": [],
   "source": [
    "def train(X_train, Y_train, X_val, Y_val, k):\n",
    "    '''\n",
    "    X_train: an m_train by 1 vector contains training points\n",
    "    Y_train: an m_train by 1 vector contains training values\n",
    "    X_val: an m_val by 1 vector contains validation points\n",
    "    Y_val: an m_val by 1 vector contains validation values\n",
    "    k: degree of polynomial\n",
    "    '''\n",
    "    w, loss_train, loss_val = None, None, None\n",
    "    ### START CODE HERE ###\n",
    "    Xt = create_matrix(X_train)\n",
    "    Xtf = Xt[:,0:k+1]\n",
    "    w = direct_method(Xtf, Y_train)\n",
    "    loss_train = loss(Xtf, Y_train, w)\n",
    "    Xv = create_matrix(X_val)\n",
    "    Xvf = Xv[:,0:k+1]\n",
    "    loss_val = loss(Xvf, Y_val, w)\n",
    "    ### END CODE HERE ###\n",
    "    return w, loss_train, loss_val"
   ]
  },
  {
   "attachments": {},
   "cell_type": "markdown",
   "metadata": {
    "id": "eAsZfxCu6YEf",
    "pycharm": {
     "name": "#%% md\n"
    }
   },
   "source": [
    "In the cell below, you can change the value of `k` between 1 and 12 and plot the loss on the training and validation set as a function of `k` in the same plot.\n",
    "\n",
    "**Question**: Discuss about the effect of $k$.\n",
    "\n",
    "**Answer**: we can see when we increase the value of k always the loss on the training set reduces and this is obvious because we solve the optimization problem on the training set. but we can see after a while the loss on the validation set increase and this is because overfitting on the training set and we are learning some feature from the training set that are not in population."
   ]
  },
  {
   "cell_type": "code",
   "execution_count": 35,
   "metadata": {
    "id": "knUTXtOv66Wx",
    "pycharm": {
     "name": "#%%\n"
    }
   },
   "outputs": [
    {
     "data": {
      "text/plain": "<Figure size 640x480 with 1 Axes>",
      "image/png": "[encoded data removed]"
     },
     "metadata": {},
     "output_type": "display_data"
    }
   ],
   "source": [
    "### START CODE HERE ###\n",
    "k = range(1,13,1)\n",
    "l_t = np.zeros((12))\n",
    "l_v = np.zeros((12))\n",
    "for i in k:\n",
    "    [w, loss_train, loss_val] = train(X_train, Y_train, X_val, Y_val, i)\n",
    "    l_t[i-1] = loss_train\n",
    "    l_v[i-1] = loss_val\n",
    "plt.plot(k , l_t , label='loss for training set')\n",
    "plt.plot(k , l_v , label='loss for validation set')\n",
    "plt.xlabel('k')\n",
    "plt.ylabel('loss')\n",
    "plt.legend()\n",
    "plt.show()\n",
    "### END CODE HERE ###"
   ]
  },
  {
   "cell_type": "markdown",
   "metadata": {
    "id": "K0M1d2Ez7JLJ",
    "pycharm": {
     "name": "#%% md\n"
    }
   },
   "source": [
    "## Evaluating Model\n",
    "\n",
    "In the cell below find the loss of your best model on the test set.\n",
    "\n",
    "**Question**: Why we need test set?\n",
    "\n",
    "**Answer**: Actually we test our model on two seperated data set mainly for preventing overfitting the model and when we see the first evidence of overfitting stop the process and choosing our model that works well."
   ]
  },
  {
   "cell_type": "code",
   "execution_count": 36,
   "metadata": {
    "id": "Ex1P5H0A7emE",
    "pycharm": {
     "name": "#%%\n"
    }
   },
   "outputs": [
    {
     "name": "stdout",
     "output_type": "stream",
     "text": [
      "The best value of K= 8\n",
      "The loss of our best model on the test set= 0.11791424797171166\n"
     ]
    }
   ],
   "source": [
    "### START CODE HERE ###\n",
    "k = range(1,13,1)\n",
    "l_test = np.zeros((12))\n",
    "X_test = create_matrix(X_test)\n",
    "for i in k:\n",
    "    [w, loss_train, loss_val] = train(X_train, Y_train, X_val, Y_val, i)\n",
    "    X_testf = X_test[:,0:i+1]\n",
    "    loss_test = loss(X_testf, Y_test, w)\n",
    "    l_test[i-1] = loss_test\n",
    "m = min(l_test)\n",
    "for i in range(12):\n",
    "    if l_test[i]==m:\n",
    "        k=i+1\n",
    "print(\"The best value of K= \" + str(k))\n",
    "print(\"The loss of our best model on the test set= \"+str(m))\n",
    "### END CODE HERE ###"
   ]
  }
 ],
 "metadata": {
  "colab": {
   "provenance": []
  },
  "kernelspec": {
   "display_name": "Python 3",
   "name": "python3"
  },
  "language_info": {
   "name": "python"
  }
 },
 "nbformat": 4,
 "nbformat_minor": 0
}